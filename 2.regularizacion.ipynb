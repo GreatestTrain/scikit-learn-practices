{
 "cells": [
  {
   "cell_type": "code",
   "execution_count": 1,
   "metadata": {},
   "outputs": [],
   "source": [
    "import pandas as pd\n",
    "import numpy as np"
   ]
  },
  {
   "cell_type": "code",
   "execution_count": 2,
   "metadata": {},
   "outputs": [],
   "source": [
    "from sklearn.linear_model import LinearRegression\n",
    "from sklearn.linear_model import Lasso\n",
    "from sklearn. linear_model import Ridge\n",
    "from sklearn.model_selection import train_test_split\n",
    "from sklearn.metrics import mean_squared_error"
   ]
  },
  {
   "cell_type": "code",
   "execution_count": 3,
   "metadata": {},
   "outputs": [],
   "source": [
    "felicidad = pd.read_csv('data/felicidad.csv')\n",
    "feature_cols = list(set(felicidad.columns) - set(['score', 'country']))\n",
    "X = felicidad[feature_cols].values\n",
    "y = felicidad['score'].values"
   ]
  },
  {
   "cell_type": "code",
   "execution_count": 4,
   "metadata": {},
   "outputs": [],
   "source": [
    "X_train, X_test, y_train, y_test = train_test_split(X, y, random_state=42, test_size=0.2)"
   ]
  },
  {
   "cell_type": "code",
   "execution_count": 5,
   "metadata": {},
   "outputs": [],
   "source": [
    "model_lr = LinearRegression()\n",
    "model_lr.fit(X_train, y_train)\n",
    "y_pred_linear = model_lr.predict(X_test)"
   ]
  },
  {
   "cell_type": "code",
   "execution_count": 6,
   "metadata": {},
   "outputs": [],
   "source": [
    "model_lasso = Lasso(alpha=0.02)\n",
    "model_lasso.fit(X_train, y_train)\n",
    "y_pred_lasso = model_lasso.predict(X_test)"
   ]
  },
  {
   "cell_type": "code",
   "execution_count": 14,
   "metadata": {},
   "outputs": [
    {
     "data": {
      "text/plain": [
       "<1x10 sparse matrix of type '<class 'numpy.float64'>'\n",
       "\twith 1 stored elements in Compressed Sparse Row format>"
      ]
     },
     "execution_count": 14,
     "metadata": {},
     "output_type": "execute_result"
    }
   ],
   "source": [
    "model_lasso."
   ]
  },
  {
   "cell_type": "code",
   "execution_count": 7,
   "metadata": {},
   "outputs": [],
   "source": [
    "model_ridge = Ridge(alpha=0.02)\n",
    "model_ridge.fit(X_train, y_train)\n",
    "y_pred_ridge = model_ridge.predict(X_test)"
   ]
  },
  {
   "cell_type": "code",
   "execution_count": 11,
   "metadata": {},
   "outputs": [
    {
     "name": "stdout",
     "output_type": "stream",
     "text": [
      "Metrics\n",
      "=======\n",
      "Nº of features: 10\n",
      "features: ['family', 'corruption', 'rank', 'gdp', 'freedom', 'generosity', 'lifexp', 'high', 'dystopia', 'low']\n",
      "Linear loss: 0.0\n",
      "coefs: [0.  0.  0.  0.  0.  0.  0.  0.5 0.  0.5]\n",
      "================================\n",
      "Lasso loss:  0.021\n",
      "coefs: [ 0.     0.    -0.025  0.     0.     0.     0.     0.    -0.     0.   ]\n",
      "================================\n",
      "Ridge loss:  0.0\n",
      "coefs: [ 0.067  0.066 -0.     0.066  0.066  0.067  0.066  0.463  0.066  0.466]\n"
     ]
    }
   ],
   "source": [
    "print(\"Metrics\\n=======\")\n",
    "prec = 3\n",
    "print(f\"Nº of features: {X_train.shape[1]}\")\n",
    "print(f\"features: {feature_cols}\")\n",
    "print(f\"Linear loss: {round(mean_squared_error(y_pred=y_pred_linear, y_true=y_test),prec)}\")\n",
    "print(f\"coefs: {model_lr.coef_.round(3)}\")\n",
    "print(\"=\"*32)\n",
    "print(f\"Lasso loss:  {round(mean_squared_error(y_pred=y_pred_lasso, y_true=y_test),prec)}\")\n",
    "print(f\"coefs: {model_lasso.coef_.round(3)}\")\n",
    "print(\"=\"*32)\n",
    "print(f\"Ridge loss:  {round(mean_squared_error(y_pred=y_pred_ridge, y_true=y_test),prec)}\")\n",
    "print(f\"coefs: {model_ridge.coef_.round(3)}\")\n"
   ]
  },
  {
   "cell_type": "code",
   "execution_count": 16,
   "metadata": {},
   "outputs": [],
   "source": [
    "from sklearn.linear_model import ElasticNet"
   ]
  },
  {
   "cell_type": "code",
   "execution_count": 17,
   "metadata": {},
   "outputs": [
    {
     "data": {
      "text/plain": [
       "0.9934731183092522"
      ]
     },
     "execution_count": 17,
     "metadata": {},
     "output_type": "execute_result"
    }
   ],
   "source": [
    "model_elastic = ElasticNet(alpha=0.02)\n",
    "model_elastic.fit(X_train, y_train)\n",
    "model_elastic.score(X_test, y_test)"
   ]
  },
  {
   "cell_type": "code",
   "execution_count": 19,
   "metadata": {},
   "outputs": [
    {
     "data": {
      "text/plain": [
       "0.008"
      ]
     },
     "execution_count": 19,
     "metadata": {},
     "output_type": "execute_result"
    }
   ],
   "source": [
    "y_pred_elastic = model_elastic.predict(X_test)\n",
    "round(mean_squared_error(y_test, y_pred_elastic),3)"
   ]
  }
 ],
 "metadata": {
  "kernelspec": {
   "display_name": "Python 3.10.4 ('ds')",
   "language": "python",
   "name": "python3"
  },
  "language_info": {
   "codemirror_mode": {
    "name": "ipython",
    "version": 3
   },
   "file_extension": ".py",
   "mimetype": "text/x-python",
   "name": "python",
   "nbconvert_exporter": "python",
   "pygments_lexer": "ipython3",
   "version": "3.10.4"
  },
  "orig_nbformat": 4,
  "vscode": {
   "interpreter": {
    "hash": "71dda1f36ff01dd8280b241c9bbd2200903794e3fcef25f2dfa7d2687b44f136"
   }
  }
 },
 "nbformat": 4,
 "nbformat_minor": 2
}
