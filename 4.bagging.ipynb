{
 "cells": [
  {
   "cell_type": "markdown",
   "metadata": {},
   "source": [
    "# Métodos de ensamble"
   ]
  },
  {
   "cell_type": "markdown",
   "metadata": {},
   "source": [
    "## Bagging\n",
    "También llamado _bootstrap aggregation_ consiste en varios \"expertos\" que trabajan de forma paralela, toman una postura y se llega a una decisión mediante distintos métodos de agregación (promedio, moda, mediana, etc)."
   ]
  },
  {
   "cell_type": "markdown",
   "metadata": {},
   "source": [
    "1. Random forest\n",
    "2. Voting Classifiers / Regressors\n",
    "3. Etc."
   ]
  },
  {
   "cell_type": "markdown",
   "metadata": {},
   "source": [
    "## Boosting\n",
    "Utilizamos la opinión de un \"experto\" detrás de otra para que sea corregida basada en el error del anterior, de forma **secuencial**."
   ]
  },
  {
   "cell_type": "markdown",
   "metadata": {},
   "source": [
    "1. AdaBoost\n",
    "2. Gradient Tree Boosting\n",
    "3. XGBoost"
   ]
  }
 ],
 "metadata": {
  "language_info": {
   "name": "python"
  },
  "orig_nbformat": 4
 },
 "nbformat": 4,
 "nbformat_minor": 2
}
