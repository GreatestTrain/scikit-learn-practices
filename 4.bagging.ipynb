{
 "cells": [
  {
   "cell_type": "markdown",
   "metadata": {},
   "source": [
    "# Métodos de ensamble"
   ]
  },
  {
   "cell_type": "code",
   "execution_count": 1,
   "metadata": {},
   "outputs": [],
   "source": [
    "import pandas as pd\n",
    "import numpy as np"
   ]
  },
  {
   "cell_type": "code",
   "execution_count": 18,
   "metadata": {},
   "outputs": [],
   "source": [
    "from sklearn.neighbors import KNeighborsClassifier\n",
    "from sklearn.model_selection import train_test_split\n",
    "from sklearn.metrics import accuracy_score"
   ]
  },
  {
   "cell_type": "code",
   "execution_count": 8,
   "metadata": {},
   "outputs": [],
   "source": [
    "dt_heart = pd.read_csv('./data/heart.csv')\n",
    "X = dt_heart[list(set(dt_heart.columns) - set([\"target\"]) )]\n",
    "y = dt_heart.target"
   ]
  },
  {
   "cell_type": "code",
   "execution_count": 21,
   "metadata": {},
   "outputs": [],
   "source": [
    "X_train, X_test, y_train, y_test = train_test_split(X, y, test_size=0.35, random_state=10)"
   ]
  },
  {
   "cell_type": "code",
   "execution_count": 23,
   "metadata": {},
   "outputs": [
    {
     "name": "stdout",
     "output_type": "stream",
     "text": [
      "================\n",
      "ACCURACY\n",
      "0.7103064066852368\n"
     ]
    }
   ],
   "source": [
    "## Normal Classifier (Not ensambled)\n",
    "knn_class = KNeighborsClassifier().fit(X_train, y_train)\n",
    "y_pred_knn = knn_class.predict(X_test)\n",
    "print(\"=\"*16)\n",
    "print(\"ACCURACY\")\n",
    "print(accuracy_score(y_test, y_pred_knn))"
   ]
  },
  {
   "cell_type": "code",
   "execution_count": 26,
   "metadata": {},
   "outputs": [],
   "source": [
    "estimators = 50"
   ]
  },
  {
   "cell_type": "markdown",
   "metadata": {},
   "source": [
    "## Bagging\n",
    "También llamado _bootstrap aggregation_ consiste en varios \"expertos\" que trabajan de forma paralela, toman una postura y se llega a una decisión mediante distintos métodos de agregación (promedio, moda, mediana, etc)."
   ]
  },
  {
   "cell_type": "markdown",
   "metadata": {},
   "source": [
    "1. Random forest\n",
    "2. Voting Classifiers / Regressors\n",
    "3. Etc."
   ]
  },
  {
   "cell_type": "code",
   "execution_count": 22,
   "metadata": {},
   "outputs": [],
   "source": [
    "from sklearn.ensemble import BaggingClassifier"
   ]
  },
  {
   "cell_type": "code",
   "execution_count": 27,
   "metadata": {},
   "outputs": [
    {
     "name": "stdout",
     "output_type": "stream",
     "text": [
      "================\n",
      "ACCURACY\n",
      "0.7743732590529248\n"
     ]
    }
   ],
   "source": [
    "bg_class = BaggingClassifier(base_estimator=KNeighborsClassifier(), n_estimators=estimators).fit(X_train, y_train)\n",
    "y_pred_bag = bg_class.predict(X_test)\n",
    "print(\"=\"*16)\n",
    "print(\"ACCURACY\")\n",
    "print(accuracy_score(y_test, y_pred_bag))\n"
   ]
  },
  {
   "cell_type": "markdown",
   "metadata": {},
   "source": [
    "## Boosting\n",
    "Utilizamos la opinión de un \"experto\" detrás de otra para que sea corregida basada en el error del anterior, de forma **secuencial**."
   ]
  },
  {
   "cell_type": "markdown",
   "metadata": {},
   "source": [
    "1. AdaBoost\n",
    "2. Gradient Tree Boosting\n",
    "3. XGBoost"
   ]
  },
  {
   "cell_type": "code",
   "execution_count": 25,
   "metadata": {},
   "outputs": [],
   "source": [
    "from sklearn.ensemble import GradientBoostingClassifier"
   ]
  },
  {
   "cell_type": "code",
   "execution_count": 28,
   "metadata": {},
   "outputs": [
    {
     "name": "stdout",
     "output_type": "stream",
     "text": [
      "================\n",
      "Accuracy\n",
      "0.9220055710306406\n"
     ]
    }
   ],
   "source": [
    "boost = GradientBoostingClassifier(n_estimators=estimators).fit(X_train, y_train)\n",
    "y_pred_boost = boost.predict(X_test)\n",
    "print(\"=\"*16)\n",
    "print(\"Accuracy\")\n",
    "print(accuracy_score(y_test, y_pred_boost))"
   ]
  }
 ],
 "metadata": {
  "kernelspec": {
   "display_name": "Python 3.10.4 ('ds')",
   "language": "python",
   "name": "python3"
  },
  "language_info": {
   "codemirror_mode": {
    "name": "ipython",
    "version": 3
   },
   "file_extension": ".py",
   "mimetype": "text/x-python",
   "name": "python",
   "nbconvert_exporter": "python",
   "pygments_lexer": "ipython3",
   "version": "3.10.4"
  },
  "orig_nbformat": 4,
  "vscode": {
   "interpreter": {
    "hash": "71dda1f36ff01dd8280b241c9bbd2200903794e3fcef25f2dfa7d2687b44f136"
   }
  }
 },
 "nbformat": 4,
 "nbformat_minor": 2
}
